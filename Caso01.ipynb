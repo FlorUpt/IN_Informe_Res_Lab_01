{
  "nbformat": 4,
  "nbformat_minor": 0,
  "metadata": {
    "colab": {
      "name": "Caso01.ipynb",
      "version": "0.3.2",
      "provenance": [],
      "collapsed_sections": [],
      "toc_visible": true,
      "include_colab_link": true
    },
    "kernelspec": {
      "name": "python2",
      "display_name": "Python 2"
    }
  },
  "cells": [
    {
      "cell_type": "markdown",
      "metadata": {
        "id": "view-in-github",
        "colab_type": "text"
      },
      "source": [
        "<a href=\"https://colab.research.google.com/github/FlorUpt/IN_Informe_Res_Lab_01/blob/master/Caso01.ipynb\" target=\"_parent\"><img src=\"https://colab.research.google.com/assets/colab-badge.svg\" alt=\"Open In Colab\"/></a>"
      ]
    },
    {
      "cell_type": "markdown",
      "metadata": {
        "id": "xYMQ80_X55sM",
        "colab_type": "text"
      },
      "source": [
        "## Laboratorio N° 01: Crear un reporte asociado a los datos de negocio\n",
        "\n",
        "Basado en el conjunto de datos \"credit data.csv\"\n",
        "\n",
        "Crear un reporte con la siguiente descripción:\n",
        "\n",
        "- Periodo de analisis: de 2014 a 2015\n",
        "- Unidad de Tiempo: Trimestral (y total anual)\n",
        "- Grupos de analisis: Por ingreso mensual con grupos. \n",
        "    * menos de 2.500\n",
        "    * 2.500 a 5.000\n",
        "    * 5.000 a 10.000\n",
        "    * mas de 10.000\n",
        "- KPIs:\n",
        "    - Número de Créditos\n",
        "    - delincuencia promedio (porcentaje de clientes en morosidad de 90dpd)\n",
        "    - ingreso mensual promedio\n",
        "- Estructura de tabla:\n",
        "    * cuartos en columnas\n",
        "    * Grupos y KPIs en filas.\n",
        "- Dibuja una gráfica con:\n",
        "    - Barras apiladas para el número de créditos\n",
        "    - Líneas para la morosidad media\n",
        "\n",
        "Adicional, Analisis de Data Exploratorio:\n",
        "\n",
        "- Crear un par gráfico de parejas para todas las variables\n",
        "- Crear un gráfico con Ingresos VS Edad en el medio, más distribuciones marginales    "
      ]
    },
    {
      "cell_type": "markdown",
      "metadata": {
        "id": "DGh6JcqX59yU",
        "colab_type": "text"
      },
      "source": [
        "### 1. Import the data\n",
        "\n",
        "While importing, be sure to take care of:  \n",
        "    - variable format\n",
        "    - missing values:\n",
        "        * missing in MonthlyIncome must be filled with the median\n",
        "        * missing in NumberOfDependents must be filled with 0\n",
        "    - dates"
      ]
    },
    {
      "cell_type": "code",
      "metadata": {
        "id": "HhAdIOqH6Dw2",
        "colab_type": "code",
        "colab": {}
      },
      "source": [
        "# import libraries\n",
        "\n",
        "import pandas as pd\n",
        "import numpy as np\n",
        "import datetime as dt"
      ],
      "execution_count": 0,
      "outputs": []
    },
    {
      "cell_type": "code",
      "metadata": {
        "id": "tqhKJzBc6KD9",
        "colab_type": "code",
        "colab": {
          "base_uri": "https://localhost:8080/",
          "height": 34
        },
        "outputId": "42f392da-b7e5-4edb-d8a9-3a3968adc1a7"
      },
      "source": [
        "# import the data\n",
        "\n",
        "base = pd.read_csv('./credit data.csv')\n",
        "\n",
        "# check types\n",
        "\n",
        "base.shape"
      ],
      "execution_count": 2,
      "outputs": [
        {
          "output_type": "execute_result",
          "data": {
            "text/plain": [
              "(136722, 1)"
            ]
          },
          "metadata": {
            "tags": []
          },
          "execution_count": 2
        }
      ]
    },
    {
      "cell_type": "code",
      "metadata": {
        "id": "-NO-oiD36TxS",
        "colab_type": "code",
        "colab": {}
      },
      "source": [
        "# check the dates are well loaded\n",
        "\n",
        "base.head()"
      ],
      "execution_count": 0,
      "outputs": []
    },
    {
      "cell_type": "markdown",
      "metadata": {
        "id": "G98zgQii6XdS",
        "colab_type": "text"
      },
      "source": [
        "### 2. Missing values inputation"
      ]
    },
    {
      "cell_type": "code",
      "metadata": {
        "id": "TJu_HoLj6YsJ",
        "colab_type": "code",
        "colab": {}
      },
      "source": [
        "previsores = base.iloc[:, 1:4].values\n",
        "previsores"
      ],
      "execution_count": 0,
      "outputs": []
    },
    {
      "cell_type": "markdown",
      "metadata": {
        "id": "YdmKSW1j6g8x",
        "colab_type": "text"
      },
      "source": [
        "### 3. Select the data sample for the report"
      ]
    },
    {
      "cell_type": "code",
      "metadata": {
        "id": "b2rWQm2y6h8J",
        "colab_type": "code",
        "colab": {}
      },
      "source": [
        "# filter by date\n",
        "\n",
        "df = NYC\n",
        "print(df.RPT_DT.head(3))\n",
        "#create the year column\n",
        "df[\"year\"] = [date[-4:] for date in df.RPT_DT]\n",
        "#filter the year by only selecting 2014 and 2015\n",
        "df = df[(df[\"year\"] == \"2014\") | (df[\"year\"] == \"2015\")]"
      ],
      "execution_count": 0,
      "outputs": []
    },
    {
      "cell_type": "markdown",
      "metadata": {
        "id": "hYNtfkLi6o8d",
        "colab_type": "text"
      },
      "source": [
        "### 4. Create intermediate variables\n",
        "\n",
        "Hints: \n",
        "- use *.dt.year and *.dt.quarter for date columns and astype() to convert columns\n",
        "- use pd.cut() method for binning a variable"
      ]
    },
    {
      "cell_type": "code",
      "metadata": {
        "id": "zt67HuKh6uBv",
        "colab_type": "code",
        "colab": {}
      },
      "source": [
        "# check\n",
        "\n",
        "data.describe()"
      ],
      "execution_count": 0,
      "outputs": []
    },
    {
      "cell_type": "markdown",
      "metadata": {
        "id": "aOymwnUl6x7W",
        "colab_type": "text"
      },
      "source": [
        "### 5. Create report"
      ]
    },
    {
      "cell_type": "code",
      "metadata": {
        "id": "NZgjbqvp6yj8",
        "colab_type": "code",
        "colab": {}
      },
      "source": [
        "# make dataframe groupby object\n",
        "\n",
        "\n",
        "import matplotlib.pytlot as plt\n",
        "import pandas as pd\n",
        "x=df['Income']\n",
        "y=df['Delinquency']\n",
        "plt.scatter(x,y)\n",
        "plt.show()"
      ],
      "execution_count": 0,
      "outputs": []
    },
    {
      "cell_type": "code",
      "metadata": {
        "id": "nrSfVC_M6287",
        "colab_type": "code",
        "colab": {}
      },
      "source": [
        "# report for delinquency\n",
        "\n",
        "\n",
        "data['Delinquency'].fillna(data['Delinquency'].mean(),inplace=True)"
      ],
      "execution_count": 0,
      "outputs": []
    },
    {
      "cell_type": "code",
      "metadata": {
        "id": "waCpW6D-65D9",
        "colab_type": "code",
        "colab": {}
      },
      "source": [
        "# report for MonthlyIncome\n",
        "\n",
        "\n",
        "data['MonthlyIncome'].fillna(data['MonthlyIncome'].mean(),inplace=True)"
      ],
      "execution_count": 0,
      "outputs": []
    },
    {
      "cell_type": "code",
      "metadata": {
        "id": "t2T1GRWA660c",
        "colab_type": "code",
        "colab": {}
      },
      "source": [
        "# merge both reports\n",
        "\n",
        "\n",
        "from sklearn.metrics import accuracy_score\n",
        "from sklearn.metrics import confusion_matrix\n",
        "from xgboost import XGBClassifier\n",
        "# fit model no training data\n",
        "model = XGBClassifier()\n",
        "model.fit(X,y.values.ravel())\n",
        "y_pred = model.predict(X)\n",
        "print(\"The Accuracy score is : \",accuracy_score(y,y_pred)*100,\"%\")\n",
        "print(confusion_matrix(y,y_pred))"
      ],
      "execution_count": 0,
      "outputs": []
    },
    {
      "cell_type": "code",
      "metadata": {
        "id": "E-LOLdJZ69tc",
        "colab_type": "code",
        "colab": {}
      },
      "source": [
        "# pivot table\n",
        "\n",
        "dfmi.loc[:, ('one', 'second')] = value\n",
        "# becomes\n",
        "dfmi.loc.__setitem__((slice(None), ('one', 'second')), value)\n",
        "\n",
        "# arrange for final report\n",
        "\n",
        "dfmi['one']['second'] = value\n",
        "# becomes\n",
        "dfmi.__getitem__('one').__setitem__('second', value)\n",
        "\n",
        "\n",
        "# export to csv"
      ],
      "execution_count": 0,
      "outputs": []
    },
    {
      "cell_type": "markdown",
      "metadata": {
        "id": "NFm1DMml72u0",
        "colab_type": "text"
      },
      "source": [
        "### 7. Exploratory Data Analysis"
      ]
    },
    {
      "cell_type": "code",
      "metadata": {
        "id": "sPnakEJo73WV",
        "colab_type": "code",
        "colab": {}
      },
      "source": [
        "# Scatter plot with margins\n",
        "\n",
        "g = sns.JointGrid(x=\"total_bill\", y=\"tip\", data=tips)\n",
        "g = g.plot(sns.regplot, sns.distplot)"
      ],
      "execution_count": 0,
      "outputs": []
    }
  ]
}